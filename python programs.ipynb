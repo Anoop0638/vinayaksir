{
 "cells": [
  {
   "cell_type": "code",
   "execution_count": 1,
   "id": "df75b98d",
   "metadata": {},
   "outputs": [
    {
     "name": "stdout",
     "output_type": "stream",
     "text": [
      "Enter a number: 3\n",
      "{0} is Odd 3\n"
     ]
    }
   ],
   "source": [
    "#python program to check whether the given number is even or odd\n",
    "num = int(input(\"Enter a number: \"))\n",
    "if(num%2)==0:\n",
    "    print(\"{0} is Even\",format(num))\n",
    "else:\n",
    "    print(\"{0} is Odd\",format(num))\n"
   ]
  },
  {
   "cell_type": "code",
   "execution_count": 7,
   "id": "74d61d3d",
   "metadata": {},
   "outputs": [
    {
     "name": "stdout",
     "output_type": "stream",
     "text": [
      "Numbers from 1 to 10 :\n",
      "1 2 3 4 5 6 7 8 9 10 "
     ]
    }
   ],
   "source": [
    "#A short program that prints the numbers 1 to 10\n",
    "#using for loop\n",
    "print('Numbers from 1 to 10 :')\n",
    "for n in range(1,11):\n",
    "    print(n ,end=' ')\n",
    "    "
   ]
  },
  {
   "cell_type": "code",
   "execution_count": 8,
   "id": "72251157",
   "metadata": {},
   "outputs": [
    {
     "name": "stdout",
     "output_type": "stream",
     "text": [
      "1\n",
      "2\n",
      "3\n",
      "4\n",
      "5\n",
      "6\n",
      "7\n",
      "8\n",
      "9\n",
      "10\n"
     ]
    }
   ],
   "source": [
    "#using while loop \n",
    "input=1\n",
    "while input<=10:\n",
    "    print(input)\n",
    "    input+=1\n"
   ]
  },
  {
   "cell_type": "code",
   "execution_count": null,
   "id": "b8e54069",
   "metadata": {},
   "outputs": [],
   "source": []
  }
 ],
 "metadata": {
  "kernelspec": {
   "display_name": "Python 3 (ipykernel)",
   "language": "python",
   "name": "python3"
  },
  "language_info": {
   "codemirror_mode": {
    "name": "ipython",
    "version": 3
   },
   "file_extension": ".py",
   "mimetype": "text/x-python",
   "name": "python",
   "nbconvert_exporter": "python",
   "pygments_lexer": "ipython3",
   "version": "3.10.9"
  }
 },
 "nbformat": 4,
 "nbformat_minor": 5
}
